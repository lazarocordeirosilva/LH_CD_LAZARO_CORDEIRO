{
 "cells": [
  {
   "cell_type": "markdown",
   "id": "2e0c9839-93f9-465b-9806-f3cba15d45b6",
   "metadata": {},
   "source": [
    "# <a> Precificação de Aluguéis Indicium </a>"
   ]
  },
  {
   "cell_type": "markdown",
   "id": "f9f2633c-5b7b-4523-b021-574112672056",
   "metadata": {},
   "source": [
    "O objetivo do presente projeto consiste na construção de uma estratégia de precificação para aluguéis temporários na cidade de Nova York. Dessa forma, neste trabalho serão constrúidas duas análises, sendo a primeira de natureza diagnóstica e a última de caráter preditivo. \n",
    "\n",
    "Na primeira parte do projeto, será desenvolvida uma análise exploratória de dados que vise a estabelecer determinadas hipóteses de negócio. \n",
    "\n",
    "Em segundo plano, um modelo preditivo será construído a fim de auxiliar a Indicium elaborar a estratégia de precificação para o cliente que a contratou. "
   ]
  },
  {
   "cell_type": "code",
   "execution_count": 1,
   "id": "7e8d1a2f-bd86-4a3e-a3db-167ed962312d",
   "metadata": {},
   "outputs": [],
   "source": [
    "# Instalando bibliotecas necessárias\n",
    "import os\n",
    "import pandas as pd\n",
    "import numpy as np\n",
    "import seaborn as sns\n",
    "import matplotlib.pyplot as plt\n",
    "import warnings"
   ]
  },
  {
   "cell_type": "code",
   "execution_count": 3,
   "id": "1db5614c-2343-48e0-aa48-158556954d0f",
   "metadata": {},
   "outputs": [],
   "source": [
    "# Configurando pandas para mostrar todas as linhas e colunas nos DataFrames\n",
    "pd.set_option(\"display.max_rows\", None)\n",
    "pd.set_option(\"display.max_columns\", None)\n",
    "\n",
    "# Configurando pandas para não mostrar notação científica \n",
    "pd.set_option(\"display.float_format\", lambda x: '%.2f' % x)\n",
    "\n",
    "# Ignorando possíveis Warnings\n",
    "warnings.filterwarnings('ignore')"
   ]
  },
  {
   "cell_type": "markdown",
   "id": "ff7fba17-b444-4d27-b539-14e4f54bb0a9",
   "metadata": {},
   "source": [
    "## <a> Dados </a>"
   ]
  },
  {
   "cell_type": "markdown",
   "id": "96e7e8a1-7ae0-471e-a0fe-8cd696f79584",
   "metadata": {},
   "source": [
    "Vamos começar lendo a base de dados e, posteriormente, criando um dicionário que represente o significado de cada feature do Data Frame."
   ]
  },
  {
   "cell_type": "code",
   "execution_count": 4,
   "id": "5f2ed77a-ac5e-4221-8474-a7b11d6b0868",
   "metadata": {},
   "outputs": [],
   "source": [
    "# Lendo base de dados\n",
    "df_precificacao = pd.read_csv(\"./data/teste_indicium_precificacao.csv\")"
   ]
  },
  {
   "cell_type": "code",
   "execution_count": 5,
   "id": "071f0b75-cef5-4830-b7da-77c93ed5085e",
   "metadata": {},
   "outputs": [
    {
     "data": {
      "text/html": [
       "<div>\n",
       "<style scoped>\n",
       "    .dataframe tbody tr th:only-of-type {\n",
       "        vertical-align: middle;\n",
       "    }\n",
       "\n",
       "    .dataframe tbody tr th {\n",
       "        vertical-align: top;\n",
       "    }\n",
       "\n",
       "    .dataframe thead th {\n",
       "        text-align: right;\n",
       "    }\n",
       "</style>\n",
       "<table border=\"1\" class=\"dataframe\">\n",
       "  <thead>\n",
       "    <tr style=\"text-align: right;\">\n",
       "      <th></th>\n",
       "      <th>id</th>\n",
       "      <th>nome</th>\n",
       "      <th>host_id</th>\n",
       "      <th>host_name</th>\n",
       "      <th>bairro_group</th>\n",
       "      <th>bairro</th>\n",
       "      <th>latitude</th>\n",
       "      <th>longitude</th>\n",
       "      <th>room_type</th>\n",
       "      <th>price</th>\n",
       "      <th>minimo_noites</th>\n",
       "      <th>numero_de_reviews</th>\n",
       "      <th>ultima_review</th>\n",
       "      <th>reviews_por_mes</th>\n",
       "      <th>calculado_host_listings_count</th>\n",
       "      <th>disponibilidade_365</th>\n",
       "    </tr>\n",
       "  </thead>\n",
       "  <tbody>\n",
       "    <tr>\n",
       "      <th>0</th>\n",
       "      <td>2595</td>\n",
       "      <td>Skylit Midtown Castle</td>\n",
       "      <td>2845</td>\n",
       "      <td>Jennifer</td>\n",
       "      <td>Manhattan</td>\n",
       "      <td>Midtown</td>\n",
       "      <td>40.75</td>\n",
       "      <td>-73.98</td>\n",
       "      <td>Entire home/apt</td>\n",
       "      <td>225</td>\n",
       "      <td>1</td>\n",
       "      <td>45</td>\n",
       "      <td>2019-05-21</td>\n",
       "      <td>0.38</td>\n",
       "      <td>2</td>\n",
       "      <td>355</td>\n",
       "    </tr>\n",
       "    <tr>\n",
       "      <th>1</th>\n",
       "      <td>3647</td>\n",
       "      <td>THE VILLAGE OF HARLEM....NEW YORK !</td>\n",
       "      <td>4632</td>\n",
       "      <td>Elisabeth</td>\n",
       "      <td>Manhattan</td>\n",
       "      <td>Harlem</td>\n",
       "      <td>40.81</td>\n",
       "      <td>-73.94</td>\n",
       "      <td>Private room</td>\n",
       "      <td>150</td>\n",
       "      <td>3</td>\n",
       "      <td>0</td>\n",
       "      <td>NaN</td>\n",
       "      <td>NaN</td>\n",
       "      <td>1</td>\n",
       "      <td>365</td>\n",
       "    </tr>\n",
       "    <tr>\n",
       "      <th>2</th>\n",
       "      <td>3831</td>\n",
       "      <td>Cozy Entire Floor of Brownstone</td>\n",
       "      <td>4869</td>\n",
       "      <td>LisaRoxanne</td>\n",
       "      <td>Brooklyn</td>\n",
       "      <td>Clinton Hill</td>\n",
       "      <td>40.69</td>\n",
       "      <td>-73.96</td>\n",
       "      <td>Entire home/apt</td>\n",
       "      <td>89</td>\n",
       "      <td>1</td>\n",
       "      <td>270</td>\n",
       "      <td>2019-07-05</td>\n",
       "      <td>4.64</td>\n",
       "      <td>1</td>\n",
       "      <td>194</td>\n",
       "    </tr>\n",
       "    <tr>\n",
       "      <th>3</th>\n",
       "      <td>5022</td>\n",
       "      <td>Entire Apt: Spacious Studio/Loft by central park</td>\n",
       "      <td>7192</td>\n",
       "      <td>Laura</td>\n",
       "      <td>Manhattan</td>\n",
       "      <td>East Harlem</td>\n",
       "      <td>40.80</td>\n",
       "      <td>-73.94</td>\n",
       "      <td>Entire home/apt</td>\n",
       "      <td>80</td>\n",
       "      <td>10</td>\n",
       "      <td>9</td>\n",
       "      <td>2018-11-19</td>\n",
       "      <td>0.10</td>\n",
       "      <td>1</td>\n",
       "      <td>0</td>\n",
       "    </tr>\n",
       "    <tr>\n",
       "      <th>4</th>\n",
       "      <td>5099</td>\n",
       "      <td>Large Cozy 1 BR Apartment In Midtown East</td>\n",
       "      <td>7322</td>\n",
       "      <td>Chris</td>\n",
       "      <td>Manhattan</td>\n",
       "      <td>Murray Hill</td>\n",
       "      <td>40.75</td>\n",
       "      <td>-73.97</td>\n",
       "      <td>Entire home/apt</td>\n",
       "      <td>200</td>\n",
       "      <td>3</td>\n",
       "      <td>74</td>\n",
       "      <td>2019-06-22</td>\n",
       "      <td>0.59</td>\n",
       "      <td>1</td>\n",
       "      <td>129</td>\n",
       "    </tr>\n",
       "  </tbody>\n",
       "</table>\n",
       "</div>"
      ],
      "text/plain": [
       "     id                                              nome  host_id  \\\n",
       "0  2595                             Skylit Midtown Castle     2845   \n",
       "1  3647               THE VILLAGE OF HARLEM....NEW YORK !     4632   \n",
       "2  3831                   Cozy Entire Floor of Brownstone     4869   \n",
       "3  5022  Entire Apt: Spacious Studio/Loft by central park     7192   \n",
       "4  5099         Large Cozy 1 BR Apartment In Midtown East     7322   \n",
       "\n",
       "     host_name bairro_group        bairro  latitude  longitude  \\\n",
       "0     Jennifer    Manhattan       Midtown     40.75     -73.98   \n",
       "1    Elisabeth    Manhattan        Harlem     40.81     -73.94   \n",
       "2  LisaRoxanne     Brooklyn  Clinton Hill     40.69     -73.96   \n",
       "3        Laura    Manhattan   East Harlem     40.80     -73.94   \n",
       "4        Chris    Manhattan   Murray Hill     40.75     -73.97   \n",
       "\n",
       "         room_type  price  minimo_noites  numero_de_reviews ultima_review  \\\n",
       "0  Entire home/apt    225              1                 45    2019-05-21   \n",
       "1     Private room    150              3                  0           NaN   \n",
       "2  Entire home/apt     89              1                270    2019-07-05   \n",
       "3  Entire home/apt     80             10                  9    2018-11-19   \n",
       "4  Entire home/apt    200              3                 74    2019-06-22   \n",
       "\n",
       "   reviews_por_mes  calculado_host_listings_count  disponibilidade_365  \n",
       "0             0.38                              2                  355  \n",
       "1              NaN                              1                  365  \n",
       "2             4.64                              1                  194  \n",
       "3             0.10                              1                    0  \n",
       "4             0.59                              1                  129  "
      ]
     },
     "execution_count": 5,
     "metadata": {},
     "output_type": "execute_result"
    }
   ],
   "source": [
    "# Visualizando 5 primeiras linhas do DataFrame\n",
    "df_precificacao.head()"
   ]
  },
  {
   "cell_type": "code",
   "execution_count": 6,
   "id": "d11b8590-df6b-4332-85ed-8ccff0f7b5d3",
   "metadata": {},
   "outputs": [
    {
     "data": {
      "text/plain": [
       "True"
      ]
     },
     "execution_count": 6,
     "metadata": {},
     "output_type": "execute_result"
    }
   ],
   "source": [
    "# Checando se a coluna 'id' possui apenas valores únicos \n",
    "df_precificacao['id'].is_unique"
   ]
  },
  {
   "cell_type": "markdown",
   "id": "d80d2f36-eed1-48ef-8f08-85cda685f55e",
   "metadata": {},
   "source": [
    "Já que a coluna 'id' possui apenas valores únicos (referentes a cada anúncio nos dados do aplicativo), vamos transformá-la no índice do DataFrame."
   ]
  },
  {
   "cell_type": "code",
   "execution_count": 13,
   "id": "559accb1-b6d6-4d79-b3de-e371185b7728",
   "metadata": {},
   "outputs": [
    {
     "data": {
      "text/html": [
       "<div>\n",
       "<style scoped>\n",
       "    .dataframe tbody tr th:only-of-type {\n",
       "        vertical-align: middle;\n",
       "    }\n",
       "\n",
       "    .dataframe tbody tr th {\n",
       "        vertical-align: top;\n",
       "    }\n",
       "\n",
       "    .dataframe thead th {\n",
       "        text-align: right;\n",
       "    }\n",
       "</style>\n",
       "<table border=\"1\" class=\"dataframe\">\n",
       "  <thead>\n",
       "    <tr style=\"text-align: right;\">\n",
       "      <th></th>\n",
       "      <th>nome</th>\n",
       "      <th>host_id</th>\n",
       "      <th>host_name</th>\n",
       "      <th>bairro_group</th>\n",
       "      <th>bairro</th>\n",
       "      <th>latitude</th>\n",
       "      <th>longitude</th>\n",
       "      <th>room_type</th>\n",
       "      <th>price</th>\n",
       "      <th>minimo_noites</th>\n",
       "      <th>numero_de_reviews</th>\n",
       "      <th>ultima_review</th>\n",
       "      <th>reviews_por_mes</th>\n",
       "      <th>calculado_host_listings_count</th>\n",
       "      <th>disponibilidade_365</th>\n",
       "    </tr>\n",
       "    <tr>\n",
       "      <th>id</th>\n",
       "      <th></th>\n",
       "      <th></th>\n",
       "      <th></th>\n",
       "      <th></th>\n",
       "      <th></th>\n",
       "      <th></th>\n",
       "      <th></th>\n",
       "      <th></th>\n",
       "      <th></th>\n",
       "      <th></th>\n",
       "      <th></th>\n",
       "      <th></th>\n",
       "      <th></th>\n",
       "      <th></th>\n",
       "      <th></th>\n",
       "    </tr>\n",
       "  </thead>\n",
       "  <tbody>\n",
       "    <tr>\n",
       "      <th>2595</th>\n",
       "      <td>Skylit Midtown Castle</td>\n",
       "      <td>2845</td>\n",
       "      <td>Jennifer</td>\n",
       "      <td>Manhattan</td>\n",
       "      <td>Midtown</td>\n",
       "      <td>40.75</td>\n",
       "      <td>-73.98</td>\n",
       "      <td>Entire home/apt</td>\n",
       "      <td>225</td>\n",
       "      <td>1</td>\n",
       "      <td>45</td>\n",
       "      <td>2019-05-21</td>\n",
       "      <td>0.38</td>\n",
       "      <td>2</td>\n",
       "      <td>355</td>\n",
       "    </tr>\n",
       "    <tr>\n",
       "      <th>3647</th>\n",
       "      <td>THE VILLAGE OF HARLEM....NEW YORK !</td>\n",
       "      <td>4632</td>\n",
       "      <td>Elisabeth</td>\n",
       "      <td>Manhattan</td>\n",
       "      <td>Harlem</td>\n",
       "      <td>40.81</td>\n",
       "      <td>-73.94</td>\n",
       "      <td>Private room</td>\n",
       "      <td>150</td>\n",
       "      <td>3</td>\n",
       "      <td>0</td>\n",
       "      <td>NaN</td>\n",
       "      <td>NaN</td>\n",
       "      <td>1</td>\n",
       "      <td>365</td>\n",
       "    </tr>\n",
       "    <tr>\n",
       "      <th>3831</th>\n",
       "      <td>Cozy Entire Floor of Brownstone</td>\n",
       "      <td>4869</td>\n",
       "      <td>LisaRoxanne</td>\n",
       "      <td>Brooklyn</td>\n",
       "      <td>Clinton Hill</td>\n",
       "      <td>40.69</td>\n",
       "      <td>-73.96</td>\n",
       "      <td>Entire home/apt</td>\n",
       "      <td>89</td>\n",
       "      <td>1</td>\n",
       "      <td>270</td>\n",
       "      <td>2019-07-05</td>\n",
       "      <td>4.64</td>\n",
       "      <td>1</td>\n",
       "      <td>194</td>\n",
       "    </tr>\n",
       "    <tr>\n",
       "      <th>5022</th>\n",
       "      <td>Entire Apt: Spacious Studio/Loft by central park</td>\n",
       "      <td>7192</td>\n",
       "      <td>Laura</td>\n",
       "      <td>Manhattan</td>\n",
       "      <td>East Harlem</td>\n",
       "      <td>40.80</td>\n",
       "      <td>-73.94</td>\n",
       "      <td>Entire home/apt</td>\n",
       "      <td>80</td>\n",
       "      <td>10</td>\n",
       "      <td>9</td>\n",
       "      <td>2018-11-19</td>\n",
       "      <td>0.10</td>\n",
       "      <td>1</td>\n",
       "      <td>0</td>\n",
       "    </tr>\n",
       "    <tr>\n",
       "      <th>5099</th>\n",
       "      <td>Large Cozy 1 BR Apartment In Midtown East</td>\n",
       "      <td>7322</td>\n",
       "      <td>Chris</td>\n",
       "      <td>Manhattan</td>\n",
       "      <td>Murray Hill</td>\n",
       "      <td>40.75</td>\n",
       "      <td>-73.97</td>\n",
       "      <td>Entire home/apt</td>\n",
       "      <td>200</td>\n",
       "      <td>3</td>\n",
       "      <td>74</td>\n",
       "      <td>2019-06-22</td>\n",
       "      <td>0.59</td>\n",
       "      <td>1</td>\n",
       "      <td>129</td>\n",
       "    </tr>\n",
       "  </tbody>\n",
       "</table>\n",
       "</div>"
      ],
      "text/plain": [
       "                                                  nome  host_id    host_name  \\\n",
       "id                                                                             \n",
       "2595                             Skylit Midtown Castle     2845     Jennifer   \n",
       "3647               THE VILLAGE OF HARLEM....NEW YORK !     4632    Elisabeth   \n",
       "3831                   Cozy Entire Floor of Brownstone     4869  LisaRoxanne   \n",
       "5022  Entire Apt: Spacious Studio/Loft by central park     7192        Laura   \n",
       "5099         Large Cozy 1 BR Apartment In Midtown East     7322        Chris   \n",
       "\n",
       "     bairro_group        bairro  latitude  longitude        room_type  price  \\\n",
       "id                                                                             \n",
       "2595    Manhattan       Midtown     40.75     -73.98  Entire home/apt    225   \n",
       "3647    Manhattan        Harlem     40.81     -73.94     Private room    150   \n",
       "3831     Brooklyn  Clinton Hill     40.69     -73.96  Entire home/apt     89   \n",
       "5022    Manhattan   East Harlem     40.80     -73.94  Entire home/apt     80   \n",
       "5099    Manhattan   Murray Hill     40.75     -73.97  Entire home/apt    200   \n",
       "\n",
       "      minimo_noites  numero_de_reviews ultima_review  reviews_por_mes  \\\n",
       "id                                                                      \n",
       "2595              1                 45    2019-05-21             0.38   \n",
       "3647              3                  0           NaN              NaN   \n",
       "3831              1                270    2019-07-05             4.64   \n",
       "5022             10                  9    2018-11-19             0.10   \n",
       "5099              3                 74    2019-06-22             0.59   \n",
       "\n",
       "      calculado_host_listings_count  disponibilidade_365  \n",
       "id                                                        \n",
       "2595                              2                  355  \n",
       "3647                              1                  365  \n",
       "3831                              1                  194  \n",
       "5022                              1                    0  \n",
       "5099                              1                  129  "
      ]
     },
     "execution_count": 13,
     "metadata": {},
     "output_type": "execute_result"
    }
   ],
   "source": [
    "# Passando 'id' como indíce do DataFrame\n",
    "df_precificacao = df_precificacao.set_index(\"id\")\n",
    "\n",
    "# Visualizando novamente\n",
    "df_precificacao.head()"
   ]
  },
  {
   "cell_type": "markdown",
   "id": "95526251-e896-4990-aafa-de1fec81d04d",
   "metadata": {},
   "source": [
    "## <a> Dicionário de Dados </a>"
   ]
  },
  {
   "cell_type": "code",
   "execution_count": 14,
   "id": "e1b041b2-99ef-44f9-8892-c15aaa9efe82",
   "metadata": {},
   "outputs": [],
   "source": [
    "# Criando dicionário de dados\n",
    "dicionario_dados = dict()\n",
    "\n",
    "# Preenchendo dicionário de dados\n",
    "dicionario_dados['nome'] = 'Representa o nome do anúncio'\n",
    "dicionario_dados['host_id'] = 'Representa o id do usuário que hospedou o anúncio'\n",
    "dicionario_dados['host_name'] = 'Contém o nome do usuário que hospedou o anúncio'\n",
    "dicionario_dados['bairro_group'] = 'Contém o nome do bairro onde o anúncio está localizado'\n",
    "dicionario_dados['bairro'] = 'Contém o nome da área onde o anúncio está localizado'\n",
    "dicionario_dados['latitude'] = 'Contém a latitude do local'\n",
    "dicionario_dados['longitude'] = 'Contém a longitude do local'\n",
    "dicionario_dados['room_type'] = 'Contém o tipo de espaço de cada anúncio'\n",
    "dicionario_dados['price'] = 'Contém o preço por noite em dólares listado pelo anfitrião'\n",
    "dicionario_dados['minimo_noites'] = 'Contém o número mínimo de noites que o usuário deve reservar'\n",
    "dicionario_dados['numero_de_reviews'] = 'Contém o número de comentários dados a cada listagem'\n",
    "dicionario_dados['ultima_review'] = 'Contém a data da última revisão dada à listagem'\n",
    "dicionario_dados['reviews_por_mes'] = 'Contém o número de avaliações fornecidas por mês'\n",
    "dicionario_dados['calculado_host_listings_count'] = 'Contém a quantidade de listagem por host'\n",
    "dicionario_dados['disponibilidade_365'] = 'Contém o número de dias em que o anúncio está disponível para reserva'"
   ]
  },
  {
   "cell_type": "code",
   "execution_count": 15,
   "id": "56aae9fc-fdf2-45cf-a8a8-dc42164f4b52",
   "metadata": {},
   "outputs": [
    {
     "data": {
      "text/plain": [
       "'Contém o nome do bairro onde o anúncio está localizado'"
      ]
     },
     "execution_count": 15,
     "metadata": {},
     "output_type": "execute_result"
    }
   ],
   "source": [
    "# Ao popular o dicionário de dados com a descrição de cada variável, se torna mais fácil acessar cada significado\n",
    "dicionario_dados['bairro_group'] # Exemplo com feature 'bairro_group'"
   ]
  },
  {
   "cell_type": "markdown",
   "id": "9e75d124-65fd-4ed5-ab9f-15406b852e70",
   "metadata": {},
   "source": [
    "## <a> Manipulação de Dados Inicial </a>"
   ]
  },
  {
   "cell_type": "code",
   "execution_count": 16,
   "id": "21ca11fb-ce2d-49d4-b6db-fbe756d86054",
   "metadata": {},
   "outputs": [
    {
     "data": {
      "text/plain": [
       "Index(['nome', 'host_id', 'host_name', 'bairro_group', 'bairro', 'latitude',\n",
       "       'longitude', 'room_type', 'price', 'minimo_noites', 'numero_de_reviews',\n",
       "       'ultima_review', 'reviews_por_mes', 'calculado_host_listings_count',\n",
       "       'disponibilidade_365'],\n",
       "      dtype='object')"
      ]
     },
     "execution_count": 16,
     "metadata": {},
     "output_type": "execute_result"
    }
   ],
   "source": [
    "# Verificando todas as colunas do DataFrame\n",
    "df_precificacao.columns"
   ]
  },
  {
   "cell_type": "code",
   "execution_count": 17,
   "id": "fd045e38-1185-48bf-96a3-ded163f29dce",
   "metadata": {},
   "outputs": [
    {
     "data": {
      "text/plain": [
       "15"
      ]
     },
     "execution_count": 17,
     "metadata": {},
     "output_type": "execute_result"
    }
   ],
   "source": [
    "# Verificando número de features\n",
    "df_precificacao.columns.nunique()"
   ]
  },
  {
   "cell_type": "code",
   "execution_count": 18,
   "id": "c1d4c541-eaee-496c-9e22-2e3a5601efb1",
   "metadata": {},
   "outputs": [],
   "source": [
    "# Criando função para mostrar dimensões, tipos de dados de cada feature e demais informações do DataFrame\n",
    "def informacao(dataframe):\n",
    "    print(f\"As dimensões do DataFrame são: {(dataframe.shape[0])} linhas e {(dataframe.shape[1])} colunas\")\n",
    "    print(\"\\n\")\n",
    "    print(f\"As features do DataFrame e seus tipos são:\\n\\n{dataframe.dtypes}\")\n",
    "    print(\"\\n\")\n",
    "    print(\"Demais informações sobre o DataFrame: \\n\")\n",
    "    dataframe.info()"
   ]
  },
  {
   "cell_type": "code",
   "execution_count": 19,
   "id": "aba9abf0-d74c-4a86-bd55-d59faa11ef89",
   "metadata": {},
   "outputs": [
    {
     "name": "stdout",
     "output_type": "stream",
     "text": [
      "As dimensões do DataFrame são: 48894 linhas e 15 colunas\n",
      "\n",
      "\n",
      "As features do DataFrame e seus tipos são:\n",
      "\n",
      "nome                              object\n",
      "host_id                            int64\n",
      "host_name                         object\n",
      "bairro_group                      object\n",
      "bairro                            object\n",
      "latitude                         float64\n",
      "longitude                        float64\n",
      "room_type                         object\n",
      "price                              int64\n",
      "minimo_noites                      int64\n",
      "numero_de_reviews                  int64\n",
      "ultima_review                     object\n",
      "reviews_por_mes                  float64\n",
      "calculado_host_listings_count      int64\n",
      "disponibilidade_365                int64\n",
      "dtype: object\n",
      "\n",
      "\n",
      "Demais informações sobre o DataFrame: \n",
      "\n",
      "<class 'pandas.core.frame.DataFrame'>\n",
      "Index: 48894 entries, 2595 to 36487245\n",
      "Data columns (total 15 columns):\n",
      " #   Column                         Non-Null Count  Dtype  \n",
      "---  ------                         --------------  -----  \n",
      " 0   nome                           48878 non-null  object \n",
      " 1   host_id                        48894 non-null  int64  \n",
      " 2   host_name                      48873 non-null  object \n",
      " 3   bairro_group                   48894 non-null  object \n",
      " 4   bairro                         48894 non-null  object \n",
      " 5   latitude                       48894 non-null  float64\n",
      " 6   longitude                      48894 non-null  float64\n",
      " 7   room_type                      48894 non-null  object \n",
      " 8   price                          48894 non-null  int64  \n",
      " 9   minimo_noites                  48894 non-null  int64  \n",
      " 10  numero_de_reviews              48894 non-null  int64  \n",
      " 11  ultima_review                  38842 non-null  object \n",
      " 12  reviews_por_mes                38842 non-null  float64\n",
      " 13  calculado_host_listings_count  48894 non-null  int64  \n",
      " 14  disponibilidade_365            48894 non-null  int64  \n",
      "dtypes: float64(3), int64(6), object(6)\n",
      "memory usage: 6.0+ MB\n"
     ]
    }
   ],
   "source": [
    "# Chamando função para o DataFrame 'df_precificacao'\n",
    "informacao(df_precificacao)"
   ]
  },
  {
   "cell_type": "markdown",
   "id": "f1ed0db5-6ee4-4a86-a585-c75cfaf69fb9",
   "metadata": {},
   "source": [
    "> A partir da visualização dos tipos de dados de cada feature do Pandas DataFrame original, é possível ter uma noção de quais variáveis categóricas (object) deveremos codificar para a construção do modelo preditivo. As variáveis 'room_type' e 'bairro_group' são exemplos de variáveis categóricas que podem ser codificadas posteriormente.\n",
    "\n",
    "Outro ponto a se investigar para codificação de variáveis é a cardinalidade de cada coluna, que pode dar indícios de qual é a melhor abordagem para essa tarefa."
   ]
  },
  {
   "cell_type": "code",
   "execution_count": 81,
   "id": "df53acc0-89f1-4777-80b4-cce716a4e8ce",
   "metadata": {},
   "outputs": [
    {
     "data": {
      "text/plain": [
       "nome                             47904\n",
       "host_id                          37457\n",
       "host_name                        11452\n",
       "bairro_group                         5\n",
       "bairro                             221\n",
       "latitude                         19048\n",
       "longitude                        14718\n",
       "room_type                            3\n",
       "price                              674\n",
       "minimo_noites                      109\n",
       "numero_de_reviews                  394\n",
       "ultima_review                     1764\n",
       "reviews_por_mes                    937\n",
       "calculado_host_listings_count       47\n",
       "disponibilidade_365                366\n",
       "dtype: int64"
      ]
     },
     "execution_count": 81,
     "metadata": {},
     "output_type": "execute_result"
    }
   ],
   "source": [
    "# Checando cardinalidade de cada coluna\n",
    "df_precificacao.nunique()"
   ]
  },
  {
   "cell_type": "markdown",
   "id": "f98e5322-20a2-42d7-a2ee-c1038538f5c1",
   "metadata": {},
   "source": [
    ">  Outra informação interessante é referente aos valores não nulos de cada feature. Percebe-se que nas colunas 'nome' e 'host_name' há poucos valores faltantes, enquanto em 'ultima_review' e 'reviews_por_mes' o número de valores faltantes é considerável."
   ]
  },
  {
   "cell_type": "markdown",
   "id": "aa5ae265-0277-4cf9-9cca-60870897b5c9",
   "metadata": {},
   "source": [
    "Em razão disso, vamos criar uma função que mostre cada feature do DataFrame e sua correspondente porcentagem de valores faltantes. Isso pode ser bastante útil para analisar qual estratégia de imputação será utilizada (se a imputação de valores for cabível)."
   ]
  },
  {
   "cell_type": "code",
   "execution_count": 79,
   "id": "55c1b83b-609a-48d5-88b4-3fc203845d6d",
   "metadata": {},
   "outputs": [],
   "source": [
    "# Definindo função para mostrar valores faltantes e calcular percentagem de cada um referente ao total de linhas do DataFrame\n",
    "def pct_missing(df):\n",
    "    # Atribuindo array de valores faltantes a variavel 'missing'\n",
    "    missing = df_precificacao.isnull().sum()\n",
    "    \n",
    "    # Mostrando valores faltantes por feature\n",
    "    print(\"Esses são os valores faltantes para cada feature: \")\n",
    "    print(\"\\n\") \n",
    "    print(missing)\n",
    "    print(\"\\n\") \n",
    "    \n",
    "    # Definindo dicionario 'pct' para armazenar estrutura de chave:valor para nome da feature e porcentagem de missing data\n",
    "    pct = {}\n",
    "    \n",
    "    # List comprehension e loop for para dividir os valores faltantes de cada feature pelo total de linhas para cada feature\n",
    "    for feature in missing.index:\n",
    "        pct[feature] = (f\"{round((missing[feature] / df_precificacao.shape[0]) * 100, 2)}%\")\n",
    "    print(\"Essas são as porcentagens de valores faltantes para cada feature: \")\n",
    "    print(\"\\n\")\n",
    "    \n",
    "    # Retornando dicionário que mostra cada feature e sua porcentagem de missing data \n",
    "    return pct"
   ]
  },
  {
   "cell_type": "code",
   "execution_count": 80,
   "id": "6d53d680-7fef-4a9e-8119-3ac58fe72243",
   "metadata": {},
   "outputs": [
    {
     "name": "stdout",
     "output_type": "stream",
     "text": [
      "Esses são os valores faltantes para cada feature: \n",
      "\n",
      "\n",
      "nome                                16\n",
      "host_id                              0\n",
      "host_name                           21\n",
      "bairro_group                         0\n",
      "bairro                               0\n",
      "latitude                             0\n",
      "longitude                            0\n",
      "room_type                            0\n",
      "price                                0\n",
      "minimo_noites                        0\n",
      "numero_de_reviews                    0\n",
      "ultima_review                    10052\n",
      "reviews_por_mes                  10052\n",
      "calculado_host_listings_count        0\n",
      "disponibilidade_365                  0\n",
      "dtype: int64\n",
      "\n",
      "\n",
      "Essas são as porcentagens de valores faltantes para cada feature: \n",
      "\n",
      "\n"
     ]
    },
    {
     "data": {
      "text/plain": [
       "{'nome': '0.03%',\n",
       " 'host_id': '0.0%',\n",
       " 'host_name': '0.04%',\n",
       " 'bairro_group': '0.0%',\n",
       " 'bairro': '0.0%',\n",
       " 'latitude': '0.0%',\n",
       " 'longitude': '0.0%',\n",
       " 'room_type': '0.0%',\n",
       " 'price': '0.0%',\n",
       " 'minimo_noites': '0.0%',\n",
       " 'numero_de_reviews': '0.0%',\n",
       " 'ultima_review': '20.56%',\n",
       " 'reviews_por_mes': '20.56%',\n",
       " 'calculado_host_listings_count': '0.0%',\n",
       " 'disponibilidade_365': '0.0%'}"
      ]
     },
     "execution_count": 80,
     "metadata": {},
     "output_type": "execute_result"
    }
   ],
   "source": [
    "pct_missing(df_precificacao)"
   ]
  },
  {
   "cell_type": "markdown",
   "id": "f86111c9-3f0f-4b7c-96de-e2d0aafd19ee",
   "metadata": {},
   "source": [
    "Levando em consideração as primeiras impressões de nossa base de dados, vamos dar início a uma etapa muito importante em qualquer projeto de Ciência de Dados, a EDA."
   ]
  },
  {
   "cell_type": "markdown",
   "id": "6d843f1d-fef3-44fa-87bb-d6a0f4f7e7ad",
   "metadata": {},
   "source": [
    "## <a> Análise Exploratória de Dados </a>"
   ]
  },
  {
   "cell_type": "markdown",
   "id": "0413f92d-710e-4bd9-98ee-d1b7c9685140",
   "metadata": {},
   "source": [
    "Além da capacidade investigativa inicial que uma boa EDA proporciona ao Cientista de Dados, a Análise Exploratória de Dados também é importante para propor hipóteses de negócio e introduzir a estratégia de modelagem preditiva que será utilizada. Ao verificar distribuições, medidas de tendência central, separatrizes, frequência e correlação entre as variáveis, pode-se perceber quais são os modelos que obterão melhor desempenho na solução do problema de negócio com que nos deparamos."
   ]
  },
  {
   "cell_type": "markdown",
   "id": "4f672e39-f2fa-43f6-a9fb-a252c683af4c",
   "metadata": {},
   "source": [
    "Vamos começar a análise com o método describe, selecionando apenas colunas de valores inteiros que sejam relevantes para a modelagem."
   ]
  },
  {
   "cell_type": "code",
   "execution_count": 95,
   "id": "9e79a71d-e525-4810-a7b1-6365bc853bc9",
   "metadata": {},
   "outputs": [
    {
     "data": {
      "text/html": [
       "<div>\n",
       "<style scoped>\n",
       "    .dataframe tbody tr th:only-of-type {\n",
       "        vertical-align: middle;\n",
       "    }\n",
       "\n",
       "    .dataframe tbody tr th {\n",
       "        vertical-align: top;\n",
       "    }\n",
       "\n",
       "    .dataframe thead th {\n",
       "        text-align: right;\n",
       "    }\n",
       "</style>\n",
       "<table border=\"1\" class=\"dataframe\">\n",
       "  <thead>\n",
       "    <tr style=\"text-align: right;\">\n",
       "      <th></th>\n",
       "      <th>price</th>\n",
       "      <th>minimo_noites</th>\n",
       "      <th>numero_de_reviews</th>\n",
       "      <th>reviews_por_mes</th>\n",
       "      <th>calculado_host_listings_count</th>\n",
       "      <th>disponibilidade_365</th>\n",
       "    </tr>\n",
       "  </thead>\n",
       "  <tbody>\n",
       "    <tr>\n",
       "      <th>count</th>\n",
       "      <td>48894.00</td>\n",
       "      <td>48894.00</td>\n",
       "      <td>48894.00</td>\n",
       "      <td>38842.00</td>\n",
       "      <td>48894.00</td>\n",
       "      <td>48894.00</td>\n",
       "    </tr>\n",
       "    <tr>\n",
       "      <th>mean</th>\n",
       "      <td>152.72</td>\n",
       "      <td>7.03</td>\n",
       "      <td>23.27</td>\n",
       "      <td>1.37</td>\n",
       "      <td>7.14</td>\n",
       "      <td>112.78</td>\n",
       "    </tr>\n",
       "    <tr>\n",
       "      <th>std</th>\n",
       "      <td>240.16</td>\n",
       "      <td>20.51</td>\n",
       "      <td>44.55</td>\n",
       "      <td>1.68</td>\n",
       "      <td>32.95</td>\n",
       "      <td>131.62</td>\n",
       "    </tr>\n",
       "    <tr>\n",
       "      <th>min</th>\n",
       "      <td>0.00</td>\n",
       "      <td>1.00</td>\n",
       "      <td>0.00</td>\n",
       "      <td>0.01</td>\n",
       "      <td>1.00</td>\n",
       "      <td>0.00</td>\n",
       "    </tr>\n",
       "    <tr>\n",
       "      <th>25%</th>\n",
       "      <td>69.00</td>\n",
       "      <td>1.00</td>\n",
       "      <td>1.00</td>\n",
       "      <td>0.19</td>\n",
       "      <td>1.00</td>\n",
       "      <td>0.00</td>\n",
       "    </tr>\n",
       "    <tr>\n",
       "      <th>50%</th>\n",
       "      <td>106.00</td>\n",
       "      <td>3.00</td>\n",
       "      <td>5.00</td>\n",
       "      <td>0.72</td>\n",
       "      <td>1.00</td>\n",
       "      <td>45.00</td>\n",
       "    </tr>\n",
       "    <tr>\n",
       "      <th>75%</th>\n",
       "      <td>175.00</td>\n",
       "      <td>5.00</td>\n",
       "      <td>24.00</td>\n",
       "      <td>2.02</td>\n",
       "      <td>2.00</td>\n",
       "      <td>227.00</td>\n",
       "    </tr>\n",
       "    <tr>\n",
       "      <th>max</th>\n",
       "      <td>10000.00</td>\n",
       "      <td>1250.00</td>\n",
       "      <td>629.00</td>\n",
       "      <td>58.50</td>\n",
       "      <td>327.00</td>\n",
       "      <td>365.00</td>\n",
       "    </tr>\n",
       "  </tbody>\n",
       "</table>\n",
       "</div>"
      ],
      "text/plain": [
       "         price  minimo_noites  numero_de_reviews  reviews_por_mes  \\\n",
       "count 48894.00       48894.00           48894.00         38842.00   \n",
       "mean    152.72           7.03              23.27             1.37   \n",
       "std     240.16          20.51              44.55             1.68   \n",
       "min       0.00           1.00               0.00             0.01   \n",
       "25%      69.00           1.00               1.00             0.19   \n",
       "50%     106.00           3.00               5.00             0.72   \n",
       "75%     175.00           5.00              24.00             2.02   \n",
       "max   10000.00        1250.00             629.00            58.50   \n",
       "\n",
       "       calculado_host_listings_count  disponibilidade_365  \n",
       "count                       48894.00             48894.00  \n",
       "mean                            7.14               112.78  \n",
       "std                            32.95               131.62  \n",
       "min                             1.00                 0.00  \n",
       "25%                             1.00                 0.00  \n",
       "50%                             1.00                45.00  \n",
       "75%                             2.00               227.00  \n",
       "max                           327.00               365.00  "
      ]
     },
     "execution_count": 95,
     "metadata": {},
     "output_type": "execute_result"
    }
   ],
   "source": [
    "# Criando lista das features relevantes\n",
    "features_relevantes = ['price', 'minimo_noites', 'numero_de_reviews', \n",
    "                       'reviews_por_mes', 'calculado_host_listings_count', 'disponibilidade_365']\n",
    "\n",
    "# Filtrando o describe mostrando apenas as colunas relevantes\n",
    "(df_precificacao.describe()).loc[:, features_relevantes]"
   ]
  },
  {
   "cell_type": "code",
   "execution_count": 100,
   "id": "d1066036-8042-451c-80b0-92345a0568cc",
   "metadata": {},
   "outputs": [
    {
     "data": {
      "text/plain": [
       "0    100\n",
       "Name: price, dtype: int64"
      ]
     },
     "execution_count": 100,
     "metadata": {},
     "output_type": "execute_result"
    }
   ],
   "source": [
    "# Analisando a moda do preço por noite \n",
    "df_precificacao['price'].mode()"
   ]
  },
  {
   "cell_type": "code",
   "execution_count": 151,
   "id": "6b729077-7517-44a1-b50a-f2b75d3ccb4d",
   "metadata": {},
   "outputs": [
    {
     "data": {
      "text/plain": [
       "1"
      ]
     },
     "execution_count": 151,
     "metadata": {},
     "output_type": "execute_result"
    }
   ],
   "source": [
    "# Checando o número de vezes que a variável minimo_noites assume o valor máximo de 1250\n",
    "df_precificacao.loc[df_precificacao['minimo_noites'] == 1250].shape[0]"
   ]
  },
  {
   "cell_type": "code",
   "execution_count": 173,
   "id": "b62c1fea-386d-40c2-87b2-3efa4efdf419",
   "metadata": {},
   "outputs": [
    {
     "name": "stdout",
     "output_type": "stream",
     "text": [
      "29519\n",
      "60.37% dos apartamentos possuem menos de 10 reviews\n"
     ]
    }
   ],
   "source": [
    "# Checando o número de aluguéis com menos de 10 reviews\n",
    "num_10 = df_precificacao.loc[df_precificacao['numero_de_reviews'] < 10].shape[0]\n",
    "print(num_10)\n",
    "\n",
    "# Calculando porcentagem de apartamentos com menos de 10 reviews\n",
    "print(f'{round((num_10/df_precificacao.shape[0]) * 100, 2)}% dos apartamentos possuem menos de 10 reviews')"
   ]
  },
  {
   "cell_type": "code",
   "execution_count": 214,
   "id": "2f55f355-1304-404f-94d8-44af7103de32",
   "metadata": {},
   "outputs": [
    {
     "name": "stdout",
     "output_type": "stream",
     "text": [
      "19980\n",
      "40.86% dos apartamentos está disponível por menos de 10 dias no ano\n"
     ]
    }
   ],
   "source": [
    "# Checando o número de aluguéis disponíveis por menos de 50 dias no ano\n",
    "num_50 = df_precificacao.loc[df_precificacao['disponibilidade_365'] < 10].shape[0]\n",
    "print(num_50)\n",
    "\n",
    "# Calculando porcentagem de apartamentos disponíveis por menos de 50 dias no ano\n",
    "print(f'{round((num_50/df_precificacao.shape[0]) * 100, 2)}% dos apartamentos está disponível por menos de 10 dias no ano')"
   ]
  },
  {
   "cell_type": "markdown",
   "id": "6a02b7e3-34b3-4b52-8e1f-5c8224fecef7",
   "metadata": {},
   "source": [
    "Levando em consideração as informações expressas acima, é possível observar que:\n",
    "\n",
    "* A média do preço por noite dos aluguéis ('price') é maior que sua mediana e sua moda, o que revela uma assimetria à direita na distribuição dessa variável.\n",
    "* Na variável minimo_noites, relativa ao número mínimo de noites que o usuário deve reservar em determinado aluguel, percebe-se que o valor máximo é de 1250 noites, representando apenas uma observação em todo conjunto de dados.\n",
    "* O número de reviews geralmente é baixo para os apartamentos. É possível perceber que 50% dos aluguéis possuem menos de 5 reviews e 60,37% deles possui menos de 10 reviews.\n",
    "* Existem muitos apartamentos que ficam disponíveis para aluguel por pouco tempo no ano. Cerca de 50% dos aluguéis estão disponíveis por menos de 45 dias no ano. Além disso, é interessante perceber que quase 41% dos apartamentos ficam disponíveis por apenas 1 dia no ano."
   ]
  },
  {
   "cell_type": "markdown",
   "id": "bdfd3bb8-372e-4c87-8b2a-694e80ae40c1",
   "metadata": {},
   "source": [
    "# COMEÇAR A PARTE GRÁFICA "
   ]
  }
 ],
 "metadata": {
  "kernelspec": {
   "display_name": "Python 3 (ipykernel)",
   "language": "python",
   "name": "python3"
  },
  "language_info": {
   "codemirror_mode": {
    "name": "ipython",
    "version": 3
   },
   "file_extension": ".py",
   "mimetype": "text/x-python",
   "name": "python",
   "nbconvert_exporter": "python",
   "pygments_lexer": "ipython3",
   "version": "3.11.4"
  }
 },
 "nbformat": 4,
 "nbformat_minor": 5
}
