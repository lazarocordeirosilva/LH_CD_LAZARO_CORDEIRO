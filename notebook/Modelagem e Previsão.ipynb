{
 "cells": [
  {
   "cell_type": "markdown",
   "id": "15831348-b1de-4f1a-a14e-cb8f53ad35f5",
   "metadata": {},
   "source": [
    "# <a> Precificação de Aluguéis Indicium </a>"
   ]
  },
  {
   "cell_type": "markdown",
   "id": "ede0839b-410b-4553-88d9-ef351f60d23c",
   "metadata": {},
   "source": [
    "Nesta etapa será realizada a modelagem e precificação dos aluguéis temporários na cidade de Nova York. "
   ]
  }
 ],
 "metadata": {
  "kernelspec": {
   "display_name": "Python 3 (ipykernel)",
   "language": "python",
   "name": "python3"
  },
  "language_info": {
   "codemirror_mode": {
    "name": "ipython",
    "version": 3
   },
   "file_extension": ".py",
   "mimetype": "text/x-python",
   "name": "python",
   "nbconvert_exporter": "python",
   "pygments_lexer": "ipython3",
   "version": "3.11.4"
  }
 },
 "nbformat": 4,
 "nbformat_minor": 5
}
